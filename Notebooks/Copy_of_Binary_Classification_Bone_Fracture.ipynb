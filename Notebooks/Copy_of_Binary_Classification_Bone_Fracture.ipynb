{
  "metadata": {
    "kernelspec": {
      "display_name": "Python 3",
      "name": "python3"
    },
    "language_info": {
      "name": "python",
      "version": "3.10.13",
      "mimetype": "text/x-python",
      "codemirror_mode": {
        "name": "ipython",
        "version": 3
      },
      "pygments_lexer": "ipython3",
      "nbconvert_exporter": "python",
      "file_extension": ".py"
    },
    "kaggle": {
      "accelerator": "gpu",
      "dataSources": [
        {
          "sourceId": 8201044,
          "sourceType": "datasetVersion",
          "datasetId": 4854718
        }
      ],
      "dockerImageVersionId": 30733,
      "isInternetEnabled": true,
      "language": "python",
      "sourceType": "notebook",
      "isGpuEnabled": true
    },
    "colab": {
      "provenance": [],
      "gpuType": "T4"
    },
    "accelerator": "GPU"
  },
  "nbformat_minor": 0,
  "nbformat": 4,
  "cells": [
    {
      "source": [
        "import kagglehub\n",
        "data_path = kagglehub.dataset_download('bmadushanirodrigo/fracture-multi-region-x-ray-data')"
      ],
      "metadata": {
        "id": "NW5vZoAzJ4ER"
      },
      "cell_type": "code",
      "outputs": [],
      "execution_count": null
    },
    {
      "cell_type": "code",
      "source": [
        "import os\n",
        "base_dir = '/kaggle/input/fracture-multi-region-x-ray-data/Bone_Fracture_Binary_Classification/Bone_Fracture_Binary_Classification'\n",
        "sub_dir = os.listdir(base_dir)\n",
        "Categories = os.listdir(os.path.join(base_dir,\"test\"))"
      ],
      "metadata": {
        "id": "5mzBEJb7W5N0"
      },
      "execution_count": null,
      "outputs": []
    },
    {
      "cell_type": "code",
      "source": [
        "Train_path = '/kaggle/input/fracture-multi-region-x-ray-data/Bone_Fracture_Binary_Classification/Bone_Fracture_Binary_Classification/train'\n",
        "Test_path = '/kaggle/input/fracture-multi-region-x-ray-data/Bone_Fracture_Binary_Classification/Bone_Fracture_Binary_Classification/test'\n",
        "Val_path = '/kaggle/input/fracture-multi-region-x-ray-data/Bone_Fracture_Binary_Classification/Bone_Fracture_Binary_Classification/val'"
      ],
      "metadata": {
        "id": "zP8Jop6yW8JJ"
      },
      "execution_count": null,
      "outputs": []
    },
    {
      "cell_type": "code",
      "source": [
        "import cv2\n",
        "import random\n",
        "import numpy as np\n",
        "from tensorflow.keras.models import Sequential\n",
        "from tensorflow.keras.layers import Dense, Conv2D, MaxPooling2D, Flatten, Activation, Dropout\n",
        "import matplotlib.pyplot as plt\n",
        "from tensorflow.keras.models import load_model\n",
        "from tensorflow.keras.callbacks import EarlyStopping\n",
        "\n",
        "import warnings\n",
        "warnings.filterwarnings('ignore')"
      ],
      "metadata": {
        "id": "mtQjz7ZFW20r"
      },
      "execution_count": null,
      "outputs": []
    },
    {
      "cell_type": "code",
      "source": [
        "img_size = 100\n",
        "\n",
        "def fetch_data(path):\n",
        "    data = []\n",
        "    category = os.listdir(path)\n",
        "    for cat in category:\n",
        "        label = Categories.index(cat)\n",
        "        img_dir = os.path.join(path,cat)\n",
        "        images = os.listdir(img_dir)\n",
        "        for img in images:\n",
        "            try:\n",
        "                img_array = cv2.imread(os.path.join(img_dir,img), cv2.IMREAD_GRAYSCALE)\n",
        "                resized_img_array = cv2.resize(img_array, (img_size, img_size))\n",
        "                data.append([resized_img_array,label])\n",
        "            except Exception as e:\n",
        "                pass\n",
        "    return data"
      ],
      "metadata": {
        "id": "-mLZS7l-XFiX"
      },
      "execution_count": null,
      "outputs": []
    },
    {
      "cell_type": "code",
      "source": [
        "Training_data = fetch_data(Train_path)\n",
        "Testing_data = fetch_data(Test_path)\n",
        "Val_data = fetch_data(Val_path)\n",
        "print(\"Training Data: \", len(Training_data), \"Testing Data: \", len(Testing_data), \"Validation Data: \", len(Val_data))"
      ],
      "metadata": {
        "colab": {
          "base_uri": "https://localhost:8080/"
        },
        "id": "PXh2dAZSXGGs",
        "outputId": "5b4e98b6-4603-419d-8625-e9f31005a4ab"
      },
      "execution_count": null,
      "outputs": [
        {
          "output_type": "stream",
          "name": "stdout",
          "text": [
            "Training Data:  9243 Testing Data:  506 Validation Data:  829\n"
          ]
        }
      ]
    },
    {
      "cell_type": "code",
      "source": [
        "random.shuffle(Training_data)\n",
        "\n",
        "def makeX_y(data):\n",
        "    makeX = []\n",
        "    makeY = []\n",
        "\n",
        "    for X, y in data:\n",
        "        makeX.append(X)\n",
        "        makeY.append(y)\n",
        "\n",
        "    makeX = np.array(makeX).reshape(-1, img_size,img_size, 1)\n",
        "    makeX = makeX / 255.0\n",
        "    makeY = np.array(makeY)\n",
        "\n",
        "    return makeX, makeY\n",
        "\n",
        "\n",
        "X_train, y_train = makeX_y(Training_data)\n",
        "X_test, y_test = makeX_y(Testing_data)\n",
        "X_val, y_val = makeX_y(Val_data)\n",
        "print(X_train.shape, y_train.shape)\n",
        "print(X_test.shape, y_test.shape)\n",
        "print(X_val.shape, y_val.shape)"
      ],
      "metadata": {
        "execution": {
          "iopub.status.busy": "2024-06-06T08:50:50.925276Z",
          "iopub.execute_input": "2024-06-06T08:50:50.925686Z",
          "iopub.status.idle": "2024-06-06T08:50:51.241582Z",
          "shell.execute_reply.started": "2024-06-06T08:50:50.925659Z",
          "shell.execute_reply": "2024-06-06T08:50:51.240661Z"
        },
        "trusted": true,
        "colab": {
          "base_uri": "https://localhost:8080/"
        },
        "id": "F6VFZ7RCJ4EZ",
        "outputId": "95f7afe2-fcf9-4dce-c7a2-3256ffd727ea"
      },
      "execution_count": null,
      "outputs": [
        {
          "output_type": "stream",
          "name": "stdout",
          "text": [
            "(9243, 100, 100, 1) (9243,)\n",
            "(506, 100, 100, 1) (506,)\n",
            "(829, 100, 100, 1) (829,)\n"
          ]
        }
      ]
    },
    {
      "cell_type": "code",
      "source": [
        "Model = Sequential()\n",
        "\n",
        "Model.add(Conv2D(64, (3,3), padding = 'same',input_shape=X_train.shape[1:] ))\n",
        "Model.add(Activation('relu'))\n",
        "Model.add(MaxPooling2D(pool_size = (2,2)))\n",
        "Model.add(Dropout(0.2))\n",
        "\n",
        "Model.add(Flatten())\n",
        "\n",
        "Model.add(Dense(1))\n",
        "Model.add(Activation('sigmoid'))\n",
        "\n",
        "Model.summary()\n",
        "\n",
        "Model.compile(optimizer='adam', loss = 'binary_crossentropy', metrics=['accuracy'])\n",
        "\n",
        "early_stopping = EarlyStopping(monitor='val_loss', patience=3, restore_best_weights=True)\n",
        "\n",
        "History = Model.fit(\n",
        "    X_train, y_train,\n",
        "    epochs=40,\n",
        "    batch_size=32,\n",
        "    validation_split=0.2,\n",
        "    callbacks=[early_stopping]\n",
        ")"
      ],
      "metadata": {
        "execution": {
          "iopub.status.busy": "2024-06-06T08:50:51.242766Z",
          "iopub.execute_input": "2024-06-06T08:50:51.243103Z",
          "iopub.status.idle": "2024-06-06T08:51:30.387905Z",
          "shell.execute_reply.started": "2024-06-06T08:50:51.243078Z",
          "shell.execute_reply": "2024-06-06T08:51:30.386974Z"
        },
        "trusted": true,
        "colab": {
          "base_uri": "https://localhost:8080/",
          "height": 1000
        },
        "id": "IzUSr23ZJ4Ea",
        "outputId": "5a01fe54-ef6f-4d19-9b90-2dbf58d193df"
      },
      "execution_count": null,
      "outputs": [
        {
          "output_type": "display_data",
          "data": {
            "text/plain": [
              "\u001b[1mModel: \"sequential\"\u001b[0m\n"
            ],
            "text/html": [
              "<pre style=\"white-space:pre;overflow-x:auto;line-height:normal;font-family:Menlo,'DejaVu Sans Mono',consolas,'Courier New',monospace\"><span style=\"font-weight: bold\">Model: \"sequential\"</span>\n",
              "</pre>\n"
            ]
          },
          "metadata": {}
        },
        {
          "output_type": "display_data",
          "data": {
            "text/plain": [
              "┏━━━━━━━━━━━━━━━━━━━━━━━━━━━━━━━━━┳━━━━━━━━━━━━━━━━━━━━━━━━┳━━━━━━━━━━━━━━━┓\n",
              "┃\u001b[1m \u001b[0m\u001b[1mLayer (type)                   \u001b[0m\u001b[1m \u001b[0m┃\u001b[1m \u001b[0m\u001b[1mOutput Shape          \u001b[0m\u001b[1m \u001b[0m┃\u001b[1m \u001b[0m\u001b[1m      Param #\u001b[0m\u001b[1m \u001b[0m┃\n",
              "┡━━━━━━━━━━━━━━━━━━━━━━━━━━━━━━━━━╇━━━━━━━━━━━━━━━━━━━━━━━━╇━━━━━━━━━━━━━━━┩\n",
              "│ conv2d (\u001b[38;5;33mConv2D\u001b[0m)                 │ (\u001b[38;5;45mNone\u001b[0m, \u001b[38;5;34m100\u001b[0m, \u001b[38;5;34m100\u001b[0m, \u001b[38;5;34m64\u001b[0m)   │           \u001b[38;5;34m640\u001b[0m │\n",
              "├─────────────────────────────────┼────────────────────────┼───────────────┤\n",
              "│ activation (\u001b[38;5;33mActivation\u001b[0m)         │ (\u001b[38;5;45mNone\u001b[0m, \u001b[38;5;34m100\u001b[0m, \u001b[38;5;34m100\u001b[0m, \u001b[38;5;34m64\u001b[0m)   │             \u001b[38;5;34m0\u001b[0m │\n",
              "├─────────────────────────────────┼────────────────────────┼───────────────┤\n",
              "│ max_pooling2d (\u001b[38;5;33mMaxPooling2D\u001b[0m)    │ (\u001b[38;5;45mNone\u001b[0m, \u001b[38;5;34m50\u001b[0m, \u001b[38;5;34m50\u001b[0m, \u001b[38;5;34m64\u001b[0m)     │             \u001b[38;5;34m0\u001b[0m │\n",
              "├─────────────────────────────────┼────────────────────────┼───────────────┤\n",
              "│ dropout (\u001b[38;5;33mDropout\u001b[0m)               │ (\u001b[38;5;45mNone\u001b[0m, \u001b[38;5;34m50\u001b[0m, \u001b[38;5;34m50\u001b[0m, \u001b[38;5;34m64\u001b[0m)     │             \u001b[38;5;34m0\u001b[0m │\n",
              "├─────────────────────────────────┼────────────────────────┼───────────────┤\n",
              "│ flatten (\u001b[38;5;33mFlatten\u001b[0m)               │ (\u001b[38;5;45mNone\u001b[0m, \u001b[38;5;34m160000\u001b[0m)         │             \u001b[38;5;34m0\u001b[0m │\n",
              "├─────────────────────────────────┼────────────────────────┼───────────────┤\n",
              "│ dense (\u001b[38;5;33mDense\u001b[0m)                   │ (\u001b[38;5;45mNone\u001b[0m, \u001b[38;5;34m1\u001b[0m)              │       \u001b[38;5;34m160,001\u001b[0m │\n",
              "├─────────────────────────────────┼────────────────────────┼───────────────┤\n",
              "│ activation_1 (\u001b[38;5;33mActivation\u001b[0m)       │ (\u001b[38;5;45mNone\u001b[0m, \u001b[38;5;34m1\u001b[0m)              │             \u001b[38;5;34m0\u001b[0m │\n",
              "└─────────────────────────────────┴────────────────────────┴───────────────┘\n"
            ],
            "text/html": [
              "<pre style=\"white-space:pre;overflow-x:auto;line-height:normal;font-family:Menlo,'DejaVu Sans Mono',consolas,'Courier New',monospace\">┏━━━━━━━━━━━━━━━━━━━━━━━━━━━━━━━━━┳━━━━━━━━━━━━━━━━━━━━━━━━┳━━━━━━━━━━━━━━━┓\n",
              "┃<span style=\"font-weight: bold\"> Layer (type)                    </span>┃<span style=\"font-weight: bold\"> Output Shape           </span>┃<span style=\"font-weight: bold\">       Param # </span>┃\n",
              "┡━━━━━━━━━━━━━━━━━━━━━━━━━━━━━━━━━╇━━━━━━━━━━━━━━━━━━━━━━━━╇━━━━━━━━━━━━━━━┩\n",
              "│ conv2d (<span style=\"color: #0087ff; text-decoration-color: #0087ff\">Conv2D</span>)                 │ (<span style=\"color: #00d7ff; text-decoration-color: #00d7ff\">None</span>, <span style=\"color: #00af00; text-decoration-color: #00af00\">100</span>, <span style=\"color: #00af00; text-decoration-color: #00af00\">100</span>, <span style=\"color: #00af00; text-decoration-color: #00af00\">64</span>)   │           <span style=\"color: #00af00; text-decoration-color: #00af00\">640</span> │\n",
              "├─────────────────────────────────┼────────────────────────┼───────────────┤\n",
              "│ activation (<span style=\"color: #0087ff; text-decoration-color: #0087ff\">Activation</span>)         │ (<span style=\"color: #00d7ff; text-decoration-color: #00d7ff\">None</span>, <span style=\"color: #00af00; text-decoration-color: #00af00\">100</span>, <span style=\"color: #00af00; text-decoration-color: #00af00\">100</span>, <span style=\"color: #00af00; text-decoration-color: #00af00\">64</span>)   │             <span style=\"color: #00af00; text-decoration-color: #00af00\">0</span> │\n",
              "├─────────────────────────────────┼────────────────────────┼───────────────┤\n",
              "│ max_pooling2d (<span style=\"color: #0087ff; text-decoration-color: #0087ff\">MaxPooling2D</span>)    │ (<span style=\"color: #00d7ff; text-decoration-color: #00d7ff\">None</span>, <span style=\"color: #00af00; text-decoration-color: #00af00\">50</span>, <span style=\"color: #00af00; text-decoration-color: #00af00\">50</span>, <span style=\"color: #00af00; text-decoration-color: #00af00\">64</span>)     │             <span style=\"color: #00af00; text-decoration-color: #00af00\">0</span> │\n",
              "├─────────────────────────────────┼────────────────────────┼───────────────┤\n",
              "│ dropout (<span style=\"color: #0087ff; text-decoration-color: #0087ff\">Dropout</span>)               │ (<span style=\"color: #00d7ff; text-decoration-color: #00d7ff\">None</span>, <span style=\"color: #00af00; text-decoration-color: #00af00\">50</span>, <span style=\"color: #00af00; text-decoration-color: #00af00\">50</span>, <span style=\"color: #00af00; text-decoration-color: #00af00\">64</span>)     │             <span style=\"color: #00af00; text-decoration-color: #00af00\">0</span> │\n",
              "├─────────────────────────────────┼────────────────────────┼───────────────┤\n",
              "│ flatten (<span style=\"color: #0087ff; text-decoration-color: #0087ff\">Flatten</span>)               │ (<span style=\"color: #00d7ff; text-decoration-color: #00d7ff\">None</span>, <span style=\"color: #00af00; text-decoration-color: #00af00\">160000</span>)         │             <span style=\"color: #00af00; text-decoration-color: #00af00\">0</span> │\n",
              "├─────────────────────────────────┼────────────────────────┼───────────────┤\n",
              "│ dense (<span style=\"color: #0087ff; text-decoration-color: #0087ff\">Dense</span>)                   │ (<span style=\"color: #00d7ff; text-decoration-color: #00d7ff\">None</span>, <span style=\"color: #00af00; text-decoration-color: #00af00\">1</span>)              │       <span style=\"color: #00af00; text-decoration-color: #00af00\">160,001</span> │\n",
              "├─────────────────────────────────┼────────────────────────┼───────────────┤\n",
              "│ activation_1 (<span style=\"color: #0087ff; text-decoration-color: #0087ff\">Activation</span>)       │ (<span style=\"color: #00d7ff; text-decoration-color: #00d7ff\">None</span>, <span style=\"color: #00af00; text-decoration-color: #00af00\">1</span>)              │             <span style=\"color: #00af00; text-decoration-color: #00af00\">0</span> │\n",
              "└─────────────────────────────────┴────────────────────────┴───────────────┘\n",
              "</pre>\n"
            ]
          },
          "metadata": {}
        },
        {
          "output_type": "display_data",
          "data": {
            "text/plain": [
              "\u001b[1m Total params: \u001b[0m\u001b[38;5;34m160,641\u001b[0m (627.50 KB)\n"
            ],
            "text/html": [
              "<pre style=\"white-space:pre;overflow-x:auto;line-height:normal;font-family:Menlo,'DejaVu Sans Mono',consolas,'Courier New',monospace\"><span style=\"font-weight: bold\"> Total params: </span><span style=\"color: #00af00; text-decoration-color: #00af00\">160,641</span> (627.50 KB)\n",
              "</pre>\n"
            ]
          },
          "metadata": {}
        },
        {
          "output_type": "display_data",
          "data": {
            "text/plain": [
              "\u001b[1m Trainable params: \u001b[0m\u001b[38;5;34m160,641\u001b[0m (627.50 KB)\n"
            ],
            "text/html": [
              "<pre style=\"white-space:pre;overflow-x:auto;line-height:normal;font-family:Menlo,'DejaVu Sans Mono',consolas,'Courier New',monospace\"><span style=\"font-weight: bold\"> Trainable params: </span><span style=\"color: #00af00; text-decoration-color: #00af00\">160,641</span> (627.50 KB)\n",
              "</pre>\n"
            ]
          },
          "metadata": {}
        },
        {
          "output_type": "display_data",
          "data": {
            "text/plain": [
              "\u001b[1m Non-trainable params: \u001b[0m\u001b[38;5;34m0\u001b[0m (0.00 B)\n"
            ],
            "text/html": [
              "<pre style=\"white-space:pre;overflow-x:auto;line-height:normal;font-family:Menlo,'DejaVu Sans Mono',consolas,'Courier New',monospace\"><span style=\"font-weight: bold\"> Non-trainable params: </span><span style=\"color: #00af00; text-decoration-color: #00af00\">0</span> (0.00 B)\n",
              "</pre>\n"
            ]
          },
          "metadata": {}
        },
        {
          "output_type": "stream",
          "name": "stdout",
          "text": [
            "Epoch 1/40\n",
            "\u001b[1m232/232\u001b[0m \u001b[32m━━━━━━━━━━━━━━━━━━━━\u001b[0m\u001b[37m\u001b[0m \u001b[1m8s\u001b[0m 22ms/step - accuracy: 0.7032 - loss: 0.5501 - val_accuracy: 0.9248 - val_loss: 0.2788\n",
            "Epoch 2/40\n",
            "\u001b[1m232/232\u001b[0m \u001b[32m━━━━━━━━━━━━━━━━━━━━\u001b[0m\u001b[37m\u001b[0m \u001b[1m5s\u001b[0m 9ms/step - accuracy: 0.9183 - loss: 0.2647 - val_accuracy: 0.9497 - val_loss: 0.1727\n",
            "Epoch 3/40\n",
            "\u001b[1m232/232\u001b[0m \u001b[32m━━━━━━━━━━━━━━━━━━━━\u001b[0m\u001b[37m\u001b[0m \u001b[1m2s\u001b[0m 9ms/step - accuracy: 0.9539 - loss: 0.1733 - val_accuracy: 0.9589 - val_loss: 0.1587\n",
            "Epoch 4/40\n",
            "\u001b[1m232/232\u001b[0m \u001b[32m━━━━━━━━━━━━━━━━━━━━\u001b[0m\u001b[37m\u001b[0m \u001b[1m3s\u001b[0m 10ms/step - accuracy: 0.9707 - loss: 0.1106 - val_accuracy: 0.9703 - val_loss: 0.1048\n",
            "Epoch 5/40\n",
            "\u001b[1m232/232\u001b[0m \u001b[32m━━━━━━━━━━━━━━━━━━━━\u001b[0m\u001b[37m\u001b[0m \u001b[1m2s\u001b[0m 9ms/step - accuracy: 0.9837 - loss: 0.0741 - val_accuracy: 0.9789 - val_loss: 0.0833\n",
            "Epoch 6/40\n",
            "\u001b[1m232/232\u001b[0m \u001b[32m━━━━━━━━━━━━━━━━━━━━\u001b[0m\u001b[37m\u001b[0m \u001b[1m3s\u001b[0m 9ms/step - accuracy: 0.9916 - loss: 0.0496 - val_accuracy: 0.9800 - val_loss: 0.0742\n",
            "Epoch 7/40\n",
            "\u001b[1m232/232\u001b[0m \u001b[32m━━━━━━━━━━━━━━━━━━━━\u001b[0m\u001b[37m\u001b[0m \u001b[1m2s\u001b[0m 9ms/step - accuracy: 0.9933 - loss: 0.0379 - val_accuracy: 0.9816 - val_loss: 0.0676\n",
            "Epoch 8/40\n",
            "\u001b[1m232/232\u001b[0m \u001b[32m━━━━━━━━━━━━━━━━━━━━\u001b[0m\u001b[37m\u001b[0m \u001b[1m2s\u001b[0m 9ms/step - accuracy: 0.9944 - loss: 0.0335 - val_accuracy: 0.9822 - val_loss: 0.0718\n",
            "Epoch 9/40\n",
            "\u001b[1m232/232\u001b[0m \u001b[32m━━━━━━━━━━━━━━━━━━━━\u001b[0m\u001b[37m\u001b[0m \u001b[1m2s\u001b[0m 10ms/step - accuracy: 0.9938 - loss: 0.0290 - val_accuracy: 0.9843 - val_loss: 0.0588\n",
            "Epoch 10/40\n",
            "\u001b[1m232/232\u001b[0m \u001b[32m━━━━━━━━━━━━━━━━━━━━\u001b[0m\u001b[37m\u001b[0m \u001b[1m2s\u001b[0m 9ms/step - accuracy: 0.9971 - loss: 0.0206 - val_accuracy: 0.9870 - val_loss: 0.0475\n",
            "Epoch 11/40\n",
            "\u001b[1m232/232\u001b[0m \u001b[32m━━━━━━━━━━━━━━━━━━━━\u001b[0m\u001b[37m\u001b[0m \u001b[1m2s\u001b[0m 9ms/step - accuracy: 0.9988 - loss: 0.0121 - val_accuracy: 0.9843 - val_loss: 0.0648\n",
            "Epoch 12/40\n",
            "\u001b[1m232/232\u001b[0m \u001b[32m━━━━━━━━━━━━━━━━━━━━\u001b[0m\u001b[37m\u001b[0m \u001b[1m2s\u001b[0m 9ms/step - accuracy: 0.9988 - loss: 0.0112 - val_accuracy: 0.9892 - val_loss: 0.0462\n",
            "Epoch 13/40\n",
            "\u001b[1m232/232\u001b[0m \u001b[32m━━━━━━━━━━━━━━━━━━━━\u001b[0m\u001b[37m\u001b[0m \u001b[1m3s\u001b[0m 10ms/step - accuracy: 0.9998 - loss: 0.0074 - val_accuracy: 0.9886 - val_loss: 0.0461\n",
            "Epoch 14/40\n",
            "\u001b[1m232/232\u001b[0m \u001b[32m━━━━━━━━━━━━━━━━━━━━\u001b[0m\u001b[37m\u001b[0m \u001b[1m2s\u001b[0m 10ms/step - accuracy: 0.9997 - loss: 0.0061 - val_accuracy: 0.9822 - val_loss: 0.0643\n",
            "Epoch 15/40\n",
            "\u001b[1m232/232\u001b[0m \u001b[32m━━━━━━━━━━━━━━━━━━━━\u001b[0m\u001b[37m\u001b[0m \u001b[1m2s\u001b[0m 9ms/step - accuracy: 0.9987 - loss: 0.0107 - val_accuracy: 0.9870 - val_loss: 0.0527\n",
            "Epoch 16/40\n",
            "\u001b[1m232/232\u001b[0m \u001b[32m━━━━━━━━━━━━━━━━━━━━\u001b[0m\u001b[37m\u001b[0m \u001b[1m3s\u001b[0m 10ms/step - accuracy: 0.9980 - loss: 0.0124 - val_accuracy: 0.9886 - val_loss: 0.0454\n",
            "Epoch 17/40\n",
            "\u001b[1m232/232\u001b[0m \u001b[32m━━━━━━━━━━━━━━━━━━━━\u001b[0m\u001b[37m\u001b[0m \u001b[1m2s\u001b[0m 9ms/step - accuracy: 0.9999 - loss: 0.0037 - val_accuracy: 0.9892 - val_loss: 0.0464\n",
            "Epoch 18/40\n",
            "\u001b[1m232/232\u001b[0m \u001b[32m━━━━━━━━━━━━━━━━━━━━\u001b[0m\u001b[37m\u001b[0m \u001b[1m2s\u001b[0m 9ms/step - accuracy: 1.0000 - loss: 0.0031 - val_accuracy: 0.9886 - val_loss: 0.0491\n",
            "Epoch 19/40\n",
            "\u001b[1m232/232\u001b[0m \u001b[32m━━━━━━━━━━━━━━━━━━━━\u001b[0m\u001b[37m\u001b[0m \u001b[1m2s\u001b[0m 10ms/step - accuracy: 1.0000 - loss: 0.0022 - val_accuracy: 0.9886 - val_loss: 0.0458\n"
          ]
        }
      ]
    },
    {
      "cell_type": "code",
      "source": [
        "Model.save(\"bone_fracture_model.h5\")"
      ],
      "metadata": {
        "colab": {
          "base_uri": "https://localhost:8080/"
        },
        "id": "Ti8hHg36cre6",
        "outputId": "4974a210-3cf7-43e1-945d-04d01f34708a"
      },
      "execution_count": null,
      "outputs": [
        {
          "output_type": "stream",
          "name": "stderr",
          "text": [
            "WARNING:absl:You are saving your model as an HDF5 file via `model.save()` or `keras.saving.save_model(model)`. This file format is considered legacy. We recommend using instead the native Keras format, e.g. `model.save('my_model.keras')` or `keras.saving.save_model(model, 'my_model.keras')`. \n"
          ]
        }
      ]
    },
    {
      "cell_type": "code",
      "source": [
        "acc = History.history['accuracy']\n",
        "val_acc = History.history['val_accuracy']\n",
        "loss = History.history['loss']\n",
        "val_loss = History.history['val_loss']\n",
        "\n",
        "\n",
        "epochs = range(1, len(acc) + 1)\n",
        "\n",
        "plt.figure(figsize=(8,4))\n",
        "plt.subplot(1, 2, 1)\n",
        "plt.plot(epochs, acc, 'b', label='Training Accuracy')\n",
        "plt.plot(epochs, val_acc, 'r', label='Validation Accuracy')\n",
        "plt.xlabel('Epochs')\n",
        "plt.ylabel(\"Accuracy\")\n",
        "plt.title(\"Training VS Validation - Accuracy\")\n",
        "plt.legend()\n",
        "\n",
        "\n",
        "plt.subplot(1,2, 2)\n",
        "plt.plot(epochs, loss, 'b', label='Training Loss')\n",
        "plt.plot(epochs, val_loss, 'r', label='Validation Losss')\n",
        "plt.xlabel(\"Epochs\")\n",
        "plt.ylabel('Loss')\n",
        "plt.title(\"Training VS Validation - Loss\")\n",
        "plt.legend()\n",
        "plt.show()"
      ],
      "metadata": {
        "execution": {
          "iopub.status.busy": "2024-06-06T08:51:30.390466Z",
          "iopub.execute_input": "2024-06-06T08:51:30.391476Z",
          "iopub.status.idle": "2024-06-06T08:51:30.880618Z",
          "shell.execute_reply.started": "2024-06-06T08:51:30.391447Z",
          "shell.execute_reply": "2024-06-06T08:51:30.87952Z"
        },
        "trusted": true,
        "colab": {
          "base_uri": "https://localhost:8080/",
          "height": 410
        },
        "id": "orBr5vkPJ4Ea",
        "outputId": "593fd507-7889-48dc-c83d-8a6788cd6766"
      },
      "execution_count": null,
      "outputs": [
        {
          "output_type": "display_data",
          "data": {
            "text/plain": [
              "<Figure size 800x400 with 2 Axes>"
            ],
            "image/png": "[encoded data removed]"
          },
          "metadata": {}
        }
      ]
    },
    {
      "cell_type": "code",
      "source": [
        "Validation_loss, Validation_accuracy = Model.evaluate(X_val, y_val)\n",
        "print(\"Validation Loss - \", Validation_loss, \"Validation Accuracy - \", Validation_accuracy)"
      ],
      "metadata": {
        "execution": {
          "iopub.status.busy": "2024-06-06T08:51:30.881754Z",
          "iopub.execute_input": "2024-06-06T08:51:30.882067Z",
          "iopub.status.idle": "2024-06-06T08:51:31.481161Z",
          "shell.execute_reply.started": "2024-06-06T08:51:30.882041Z",
          "shell.execute_reply": "2024-06-06T08:51:31.480197Z"
        },
        "trusted": true,
        "colab": {
          "base_uri": "https://localhost:8080/"
        },
        "id": "J7DA_81mJ4Eb",
        "outputId": "1cdfb1cf-890c-44d5-a3a9-66106b6787ba"
      },
      "execution_count": null,
      "outputs": [
        {
          "output_type": "stream",
          "name": "stdout",
          "text": [
            "\u001b[1m26/26\u001b[0m \u001b[32m━━━━━━━━━━━━━━━━━━━━\u001b[0m\u001b[37m\u001b[0m \u001b[1m0s\u001b[0m 18ms/step - accuracy: 0.9780 - loss: 0.0858\n",
            "Validation Loss -  0.2110990732908249 Validation Accuracy -  0.958986759185791\n"
          ]
        }
      ]
    },
    {
      "cell_type": "code",
      "source": [
        "y_pred = Model.predict(X_test)\n",
        "\n",
        "\n",
        "threshold = 0.5\n",
        "y_pred_label = []\n",
        "fractured_count = 0\n",
        "not_fractured_count = 0\n",
        "\n",
        "for pred in y_pred:\n",
        "    if(pred < 0.5):\n",
        "        y_pred_label.append(0)\n",
        "        not_fractured_count += 0\n",
        "    else:\n",
        "        y_pred_label.append(1)\n",
        "        fractured_count += 1\n",
        "\n",
        "true_count = 0\n",
        "for true, pred in zip(y_test, y_pred_label):\n",
        "    if true == pred:\n",
        "        true_count += 1\n",
        "print(f\"Out of {len(y_test)} Samples, {true_count} Samples have the correct prediction from the model\")\n",
        "print(\"Accuracy: \", (true_count/len(y_test))*100)"
      ],
      "metadata": {
        "execution": {
          "iopub.status.busy": "2024-06-06T08:56:09.985124Z",
          "iopub.execute_input": "2024-06-06T08:56:09.985464Z",
          "iopub.status.idle": "2024-06-06T08:56:10.103505Z",
          "shell.execute_reply.started": "2024-06-06T08:56:09.985439Z",
          "shell.execute_reply": "2024-06-06T08:56:10.10251Z"
        },
        "trusted": true,
        "colab": {
          "base_uri": "https://localhost:8080/"
        },
        "id": "YduFf0MoJ4Eb",
        "outputId": "b3c746d6-a5dd-4e8c-8ac9-a0f462cc51bb"
      },
      "execution_count": null,
      "outputs": [
        {
          "output_type": "stream",
          "name": "stdout",
          "text": [
            "\u001b[1m16/16\u001b[0m \u001b[32m━━━━━━━━━━━━━━━━━━━━\u001b[0m\u001b[37m\u001b[0m \u001b[1m1s\u001b[0m 21ms/step\n",
            "Out of 506 Samples, 496 Samples have the correct prediction from the model\n",
            "Accuracy:  98.02371541501977\n"
          ]
        }
      ]
    },
    {
      "cell_type": "code",
      "source": [
        "Model = load_model(\"bone_fracture_model.h5\")"
      ],
      "metadata": {
        "colab": {
          "base_uri": "https://localhost:8080/"
        },
        "id": "hO_f1__Bc3ge",
        "outputId": "58cc32f9-2bc7-4013-ee2d-83807d95aa60"
      },
      "execution_count": null,
      "outputs": [
        {
          "output_type": "stream",
          "name": "stderr",
          "text": [
            "WARNING:absl:Compiled the loaded model, but the compiled metrics have yet to be built. `model.compile_metrics` will be empty until you train or evaluate the model.\n"
          ]
        }
      ]
    },
    {
      "cell_type": "code",
      "source": [
        "loss, accuracy = Model.evaluate(X_test, y_test)\n",
        "print(f\"Test Accuracy: {Validation_accuracy:}\")"
      ],
      "metadata": {
        "colab": {
          "base_uri": "https://localhost:8080/"
        },
        "id": "P4tnCmGiedL4",
        "outputId": "cfb6322a-1cb1-4b61-90a3-f0635491fa3e"
      },
      "execution_count": null,
      "outputs": [
        {
          "output_type": "stream",
          "name": "stdout",
          "text": [
            "\u001b[1m16/16\u001b[0m \u001b[32m━━━━━━━━━━━━━━━━━━━━\u001b[0m\u001b[37m\u001b[0m \u001b[1m0s\u001b[0m 4ms/step - accuracy: 0.9789 - loss: 0.0438 \n",
            "Test Accuracy: 0.958986759185791\n"
          ]
        }
      ]
    },
    {
      "cell_type": "code",
      "source": [],
      "metadata": {
        "id": "6DGDMPkug-iK"
      },
      "execution_count": null,
      "outputs": []
    }
  ]
}